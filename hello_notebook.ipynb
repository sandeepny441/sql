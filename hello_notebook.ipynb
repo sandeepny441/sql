{
 "cells": [
  {
   "cell_type": "code",
   "execution_count": 1,
   "id": "0a0dc158",
   "metadata": {},
   "outputs": [],
   "source": [
    "import pandas as pd\n",
    "import matplotlib.pyplot as plt\n",
    "import seaborn as sns"
   ]
  },
  {
   "cell_type": "markdown",
   "id": "861ab65c",
   "metadata": {},
   "source": [
    "# Part 1 -- # Overview Questions"
   ]
  },
  {
   "cell_type": "code",
   "execution_count": 13,
   "id": "90ebe8ac",
   "metadata": {},
   "outputs": [],
   "source": [
    "\n",
    "#  \t1. How many transactions are represented in this dataset?\n",
    "# \t2. What are the unique document types provided by customers and how frequently does each type appear?\n",
    "# \t3. What is the distribution of transactions across different states and countries?\n",
    "# \t4. How many transactions have been accepted versus rejected based on the authorization documents?\n",
    "# \t5. What is the average time taken from scan time to the authorization decision (accept or reject)?\n",
    "# \t6. Are there any patterns in the frequency of transactions over time (e.g., monthly, weekly, daily)?\n",
    "# \t7. What is the average number of transactions per sales representative?\n",
    "# \t8. How does the transaction volume vary with different encrypted identification numbers (Passport, Driving License, etc.)?\n",
    "# \t9. What is the relationship between the state/country of the account holder and the authorization status?\n",
    "# \t10.Can we identify any correlations between the length of customer names (first and last) and authorization status?"
   ]
  },
  {
   "cell_type": "markdown",
   "id": "94e62f30",
   "metadata": {},
   "source": [
    "#  \t1. How many transactions are represented in this dataset?"
   ]
  },
  {
   "cell_type": "code",
   "execution_count": null,
   "id": "636a91f0",
   "metadata": {},
   "outputs": [],
   "source": [
    "#  \t1. How many transactions are represented in this dataset?\n",
    "print(f\"Total transactions: {df.shape[0]}\")"
   ]
  },
  {
   "cell_type": "markdown",
   "id": "6e4ccf17",
   "metadata": {},
   "source": [
    "# \t2. What are the unique document types provided by customers and how frequently does each type appear?"
   ]
  },
  {
   "cell_type": "code",
   "execution_count": 2,
   "id": "453cbdfe",
   "metadata": {},
   "outputs": [],
   "source": [
    "# \t2. What are the unique document types provided by customers and how frequently does each type appear?\n",
    "document_type_counts = df['DOCUMENT_TYPE'].value_counts()\n",
    "print(document_type_counts)"
   ]
  },
  {
   "cell_type": "markdown",
   "id": "59585580",
   "metadata": {},
   "source": [
    "# \t3. What is the distribution of transactions across different states and countries?"
   ]
  },
  {
   "cell_type": "code",
   "execution_count": null,
   "id": "abcc6c17",
   "metadata": {},
   "outputs": [],
   "source": [
    "# \t3. What is the distribution of transactions across different states and countries?\n",
    "state_distribution = df['STATE'].value_counts()\n",
    "country_distribution = df['COUNTRY'].value_counts()\n",
    "\n",
    "print(state_distribution)\n",
    "print(country_distribution)"
   ]
  },
  {
   "cell_type": "markdown",
   "id": "9e987577",
   "metadata": {},
   "source": [
    "# \t4. How many transactions have been accepted versus rejected based on the authorization documents?"
   ]
  },
  {
   "cell_type": "code",
   "execution_count": null,
   "id": "2420371f",
   "metadata": {},
   "outputs": [],
   "source": [
    "# \t4. How many transactions have been accepted versus rejected based on the authorization documents?\n",
    "auth_status_counts = df['AUTHID_STATUS'].value_counts()\n",
    "print(auth_status_counts)"
   ]
  },
  {
   "cell_type": "markdown",
   "id": "c4ea334a",
   "metadata": {},
   "source": [
    "# \t5. What is the average time taken from scan time to the authorization decision (accept or reject)?\n",
    "# Creating SCAN_DATE and SCAN_TIME are combined into a datetime column and the decision time is also datetime"
   ]
  },
  {
   "cell_type": "code",
   "execution_count": null,
   "id": "364c2187",
   "metadata": {},
   "outputs": [],
   "source": [
    "# \t5. What is the average time taken from scan time to the authorization decision (accept or reject)?\n",
    "# Creating SCAN_DATE and SCAN_TIME are combined into a datetime column and the decision time is also datetime\n",
    "df['SCAN_DATETIME'] = pd.to_datetime(df['SCAN_DATE'] + ' ' + df['SCAN_TIME'])\n",
    "df['DECISION_DATETIME'] = pd.to_datetime(df['DECISION_DATE'] + ' ' + df['DECISION_TIME'])  # Add these columns if they exist\n",
    "df['PROCESSING_TIME'] = (df['DECISION_DATETIME'] - df['SCAN_DATETIME']).dt.total_seconds() / 60  # in minutes\n",
    "print(f\"Average processing time: {df['PROCESSING_TIME'].mean()} minutes\")\n"
   ]
  },
  {
   "cell_type": "markdown",
   "id": "bfeee300",
   "metadata": {},
   "source": [
    "# \t6. Are there any patterns in the frequency of transactions over time (e.g., monthly, weekly, daily)?"
   ]
  },
  {
   "cell_type": "code",
   "execution_count": null,
   "id": "48f417d8",
   "metadata": {},
   "outputs": [],
   "source": [
    "# \t6. Are there any patterns in the frequency of transactions over time (e.g., monthly, weekly, daily)?\n",
    "df['SCAN_DATE'] = pd.to_datetime(df['SCAN_DATE'])\n",
    "transactions_over_time = df['SCAN_DATE'].value_counts().sort_index()\n",
    "transactions_over_time.plot()\n",
    "plt.title('Transaction Frequency Over Time')\n",
    "plt.xlabel('Date')\n",
    "plt.ylabel('Number of Transactions')\n",
    "plt.show()"
   ]
  },
  {
   "cell_type": "markdown",
   "id": "339f554d",
   "metadata": {},
   "source": [
    "# \t7. What is the average number of transactions per sales representative?"
   ]
  },
  {
   "cell_type": "code",
   "execution_count": 3,
   "id": "e3bc29ca",
   "metadata": {},
   "outputs": [],
   "source": [
    "# \t7. What is the average number of transactions per sales representative?\n",
    "transactions_per_rep = df.groupby('SALES_REP_ATTUID').size()\n",
    "average_transactions_per_rep = transactions_per_rep.mean()\n",
    "print(f\"Average transactions per sales representative: {average_transactions_per_rep}\")\n"
   ]
  },
  {
   "cell_type": "markdown",
   "id": "e2ee657e",
   "metadata": {},
   "source": [
    "# \t8. How does the transaction volume vary with different encrypted identification numbers (Passport, Driving License, etc.)?"
   ]
  },
  {
   "cell_type": "code",
   "execution_count": 4,
   "id": "1e7b4bf8",
   "metadata": {},
   "outputs": [],
   "source": [
    "# \t8. How does the transaction volume vary with different encrypted identification numbers (Passport, Driving License, etc.)?\n",
    "passport_transactions = df['PASSPORT_NUMBER_ENCRYPTED'].notna().sum()\n",
    "id_card_transactions = df['IDENTIFICATION_CARD_ENCRYPTED'].notna().sum()\n",
    "drivers_license_transactions = df['DRIVERS_LICENSE_OR_PERMIT_ENCRYPTED'].notna().sum()\n",
    "\n",
    "print(f\"Passport transactions: {passport_transactions}\")\n",
    "print(f\"ID card transactions: {id_card_transactions}\")\n",
    "print(f\"Drivers license transactions: {drivers_license_transactions}\")"
   ]
  },
  {
   "cell_type": "markdown",
   "id": "9ba6a7d5",
   "metadata": {},
   "source": [
    "# \t9. What is the relationship between the state/country of the account holder and the authorization status?"
   ]
  },
  {
   "cell_type": "code",
   "execution_count": 5,
   "id": "1073621b",
   "metadata": {},
   "outputs": [],
   "source": [
    "# \t9. What is the relationship between the state/country of the account holder and the authorization status?\n",
    "auth_by_state = df.groupby(['STATE', 'AUTHID_STATUS']).size().unstack()\n",
    "auth_by_country = df.groupby(['COUNTRY', 'AUTHID_STATUS']).size().unstack()\n",
    "\n",
    "print(auth_by_state)\n",
    "print(auth_by_country)\n"
   ]
  },
  {
   "cell_type": "markdown",
   "id": "83a497d1",
   "metadata": {},
   "source": [
    "# \t10. Can we identify any correlations between the length of customer names (first and last) and authorization status?"
   ]
  },
  {
   "cell_type": "code",
   "execution_count": 6,
   "id": "b08bcab4",
   "metadata": {},
   "outputs": [],
   "source": [
    "# \t10. Can we identify any correlations between the length of customer names (first and last) and authorization status?\n",
    "df['NAME_LENGTH'] = df['CUSTOMER_FULL_NAME_ON_DOCUMENT'].apply(lambda x: len(x))\n",
    "correlation = df[['NAME_LENGTH', 'AUTHID_STATUS']].corr()\n",
    "print(correlation)"
   ]
  },
  {
   "cell_type": "markdown",
   "id": "b95009f2",
   "metadata": {},
   "source": [
    "# Part 2 -- Filtering Impoirtant Columns for In depth analysis\n"
   ]
  },
  {
   "cell_type": "code",
   "execution_count": null,
   "id": "ae3e885a",
   "metadata": {},
   "outputs": [],
   "source": [
    "# DOCUMENT_TYPE\n",
    "# AUTHID_STATUS\n",
    "# SCAN_DATE\n",
    "# SCAN_TIME\n",
    "# PASSPORT_NUMBER_ENCRYPTED\n",
    "# IDENTIFICATION_CARD_ENCRYPTED\n",
    "# DRIVERS_LICENSE_OR_PERMIT_ENCRYPTED\n",
    "# OTHER_DOCUMENT_NBR_ENCRYPTED\n",
    "# COUNTRY\n",
    "# STATE"
   ]
  },
  {
   "cell_type": "code",
   "execution_count": 9,
   "id": "b7f2f19e",
   "metadata": {},
   "outputs": [],
   "source": [
    "# \t11. What are the most common types of authorization documents used by customers?\n",
    "# \t12. How does the authorization status (accepted, rejected) vary by document type?\n",
    "# \t13. What is the distribution of transactions by country and state with respect to different document types?\n",
    "# \t14. Is there a trend in the usage of different types of authorization documents over time?\n",
    "# \t15. What is the average processing time for each type of authorization document from scan to decision?\n",
    "# \t16. How frequently are encrypted identifiers like passports, driver’s licenses, or ID cards used compared to other documents?\n",
    "# \t17. OTHER_DOCUMENT_NBR_ENCRYPTED - Encrypted numbers for any other documents used apart from the ones listed above.\n",
    "# \t18. Are there significant differences in the authorization rates between encrypted passports, driver’s licenses, and ID cards?\n",
    "# \t19. What correlation exists between the encrypted document number's complexity (length, character type) and authorization success?\n",
    "# \t20. Which days of the week or times of day see the most frequent use of authorization documents?\n",
    "#  \t21. What are the error rates or rejection reasons associated with different types of documents?\n",
    "# \t22. Distribution of Authorization Documents by Country:this can provide geographical insights regarding document issuance.\n",
    "# \t23. Distribution of Authorization Documents by State:similar to country, but offers more granular geographic insights.\n"
   ]
  },
  {
   "cell_type": "markdown",
   "id": "d52cf2b3",
   "metadata": {},
   "source": [
    "# \t11. What are the most common types of authorization documents used by customers?"
   ]
  },
  {
   "cell_type": "code",
   "execution_count": null,
   "id": "b862f486",
   "metadata": {},
   "outputs": [],
   "source": [
    "# \t11. What are the most common types of authorization documents used by customers?\n",
    "document_type_counts = df['DOCUMENT_TYPE'].value_counts()\n",
    "\n",
    "# Plotting the results\n",
    "plt.figure(figsize=(10, 6))\n",
    "sns.barplot(x=document_type_counts.index, y=document_type_counts.values, palette='viridis')\n",
    "plt.title('Frequency of Authorization Document Types')\n",
    "plt.xlabel('Document Type')\n",
    "plt.ylabel('Count')\n",
    "plt.xticks(rotation=45)\n",
    "plt.show()\n"
   ]
  },
  {
   "cell_type": "markdown",
   "id": "686a6141",
   "metadata": {},
   "source": [
    "# \t12. How does the authorization status (accepted, rejected) vary by document type?"
   ]
  },
  {
   "cell_type": "code",
   "execution_count": null,
   "id": "52842675",
   "metadata": {},
   "outputs": [],
   "source": [
    "# \t12. How does the authorization status (accepted, rejected) vary by document type?\n",
    "\n",
    "status_by_document_type = pd.crosstab(df['DOCUMENT_TYPE'], df['AUTHID_STATUS'])\n",
    "\n",
    "# Plotting the results\n",
    "status_by_document_type.plot(kind='bar', stacked=True, figsize=(12, 7), color=['green', 'red'])\n",
    "plt.title('Authorization Status by Document Type')\n",
    "plt.xlabel('Document Type')\n",
    "plt.ylabel('Count')\n",
    "plt.xticks(rotation=45)\n",
    "plt.legend(title='Authorization Status')\n",
    "plt.show()"
   ]
  },
  {
   "cell_type": "markdown",
   "id": "4c94aa69",
   "metadata": {},
   "source": [
    "# \t13. What is the distribution of transactions by country and state with respect to different document types?"
   ]
  },
  {
   "cell_type": "code",
   "execution_count": null,
   "id": "9a9a4b89",
   "metadata": {},
   "outputs": [],
   "source": [
    "# \t13. What is the distribution of transactions by country and state with respect to different document types?\n",
    "\n",
    "# For country\n",
    "country_doc_type = pd.crosstab(df['COUNTRY'], df['DOCUMENT_TYPE'])\n",
    "plt.figure(figsize=(14, 8))\n",
    "sns.heatmap(country_doc_type, annot=True, fmt=\"d\", cmap=\"YlGnBu\")\n",
    "plt.title('Transaction Distribution by Country and Document Type')\n",
    "plt.xlabel('Document Type')\n",
    "plt.ylabel('Country')\n",
    "plt.show()\n",
    "\n",
    "# For state\n",
    "state_doc_type = pd.crosstab(df['STATE'], df['DOCUMENT_TYPE'])\n",
    "plt.figure(figsize=(14, 8))\n",
    "sns.heatmap(state_doc_type, annot=True, fmt=\"d\", cmap=\"YlGnBu\")\n",
    "plt.title('Transaction Distribution by State and Document Type')\n",
    "plt.xlabel('Document Type')\n",
    "plt.ylabel('State')\n",
    "plt.show()\n"
   ]
  },
  {
   "cell_type": "markdown",
   "id": "e51e4855",
   "metadata": {},
   "source": [
    "# \t14. Is there a trend in the usage of different types of authorization documents over time?"
   ]
  },
  {
   "cell_type": "code",
   "execution_count": null,
   "id": "dc5255cc",
   "metadata": {},
   "outputs": [],
   "source": [
    "# \t14. Is there a trend in the usage of different types of authorization documents over time?\n",
    "\n",
    "\n",
    "# Assuming 'SCAN_DATE' is the column containing the dates when documents were scanned\n",
    "df['SCAN_DATE'] = pd.to_datetime(df['SCAN_DATE'])\n",
    "\n",
    "# Group by month and document type, and count occurrences\n",
    "document_trends = df.groupby([pd.Grouper(key='SCAN_DATE', freq='M'), 'DOCUMENT_TYPE']).size().unstack(fill_value=0)\n",
    "\n",
    "plt.figure(figsize=(15, 8))\n",
    "sns.lineplot(data=document_trends, dashes=False, palette='tab10', linewidth=2.5)\n",
    "plt.title('Trends in Usage of Different Types of Authorization Documents Over Time')\n",
    "plt.xlabel('Month')\n",
    "plt.ylabel('Number of Documents Processed')\n",
    "plt.legend(title='Document Type')\n",
    "plt.show()\n"
   ]
  },
  {
   "cell_type": "markdown",
   "id": "3d8b7494",
   "metadata": {},
   "source": [
    "# \t15. What is the average processing time for each type of authorization document from scan to decision?"
   ]
  },
  {
   "cell_type": "code",
   "execution_count": null,
   "id": "ff83ed5b",
   "metadata": {},
   "outputs": [],
   "source": [
    "# \t15. What is the average processing time for each type of authorization document from scan to decision?\n",
    "\n",
    "# Ensure Proper Date-Time Formatting: Check and \n",
    "#     ensure that the SCAN_DATE, SCAN_TIME, DECISION_DATE, and DECISION_TIME columns \n",
    "# are in a proper datetime format.\n",
    "\n",
    "# Combine Date and Time Columns: \n",
    "#     combine them into single datetime columns for both scan and decision events.\n",
    "\n",
    "# Calculate Processing Time: Subtract the scan datetime from the decision datetime \n",
    "#     to get the processing time for each transaction.\n",
    "\n",
    "# Group by Document Type: Group the results by the type of document and \n",
    "#     calculate the average processing time for each group.\n",
    "\n",
    "\n",
    "# Assuming the necessary columns are named and formatted correctly\n",
    "# Convert SCAN_DATE and DECISION_DATE columns to datetime if not already\n",
    "df['SCAN_DATETIME'] = pd.to_datetime(df['SCAN_DATE'] + ' ' + df['SCAN_TIME'])\n",
    "df['DECISION_DATETIME'] = pd.to_datetime(df['DECISION_DATE'] + ' ' + df['DECISION_TIME'])\n",
    "\n",
    "# Calculate the processing time in minutes\n",
    "df['PROCESSING_TIME_MINUTES'] = (df['DECISION_DATETIME'] - df['SCAN_DATETIME']).dt.total_seconds() / 60\n",
    "\n",
    "# Group by 'DOCUMENT_TYPE' and calculate the average processing time for each type\n",
    "average_processing_times = df.groupby('DOCUMENT_TYPE')['PROCESSING_TIME_MINUTES'].mean()\n",
    "\n",
    "# Display the results\n",
    "print(average_processing_times)\n"
   ]
  },
  {
   "cell_type": "markdown",
   "id": "045cfacd",
   "metadata": {},
   "source": [
    "# \t16. How frequently are encrypted identifiers like passports, \n",
    "# driver’s licenses, or ID cards used compared to other documents?"
   ]
  },
  {
   "cell_type": "code",
   "execution_count": null,
   "id": "116a1f25",
   "metadata": {},
   "outputs": [],
   "source": [
    "# \t16. How frequently are encrypted identifiers like passports, \n",
    "# driver’s licenses, or ID cards used compared to other documents?\n",
    "\n",
    "# Frequency of Driver’s License Usage:\n",
    "# Question: How frequently are driver’s licenses or permits used as authorization documents in comparison to other types?\n",
    "# Analysis: Count the number of transactions that include an encrypted driver's license or permit number.\n",
    "\n",
    "# Trend of Driver’s License Usage Over Time:\n",
    "# Question: Is there a noticeable trend in the usage of driver's licenses or permits over time?\n",
    "# Analysis: Group the data by time intervals (e.g., monthly) to see how often driver’s licenses are used over different periods.\n",
    "\n",
    "# Geographical Distribution:\n",
    "# Question: In which regions are driver's licenses or permits most commonly used for authorization?\n",
    "# Analysis: Analyze the frequency of their use across different states and countries.\n",
    "\n",
    "# Correlation with Transaction Acceptance:\n",
    "# Question: Is there a correlation between the use of driver’s licenses as authorization documents and transaction outcomes (accepted or rejected)?\n",
    "# Analysis: Create a cross-tabulation of the presence of a driver's license with the authorization status to uncover any potential patterns.\n",
    "\n",
    "# Complexity and Outcome:\n",
    "# Question: Does the complexity or characteristics of the encrypted driver’s license number correlate with the authorization outcomes?\n",
    "# Analysis: Examine characteristics such as the length or format of encrypted numbers and correlate these with transaction outcomes.\n",
    "\n",
    "# Analysis 1: Count of Driver's License Usage\n",
    "drivers_license_count = df['DRIVERS_LICENSE_OR_PERMIT_ENCRYPTED'].notna().sum()\n",
    "print(f\"Driver's licenses or permits used in {drivers_license_count} transactions\")\n",
    "\n",
    "# Analysis 2: Trend of Driver's License Usage Over Time\n",
    "df['SCAN_DATE'] = pd.to_datetime(df['SCAN_DATE'])\n",
    "df['Drivers_License_Used'] = df['DRIVERS_LICENSE_OR_PERMIT_ENCRYPTED'].notna()\n",
    "drivers_license_trends = df.groupby([pd.Grouper(key='SCAN_DATE', freq='M'), 'Drivers_License_Used']).size().unstack(fill_value=0)\n",
    "drivers_license_trends[True].plot(kind='line', figsize=(10, 6))\n",
    "plt.title('Trend of Driver’s License Usage Over Time')\n",
    "plt.xlabel('Month')\n",
    "plt.ylabel('Number of Driver’s Licenses Used')\n",
    "plt.show()\n",
    "\n",
    "# Analysis 3: Geographical Distribution of Driver’s License Usage\n",
    "license_by_country = df[df['DRIVERS_LICENSE_OR_PERMIT_ENCRYPTED'].notna()].groupby('COUNTRY').size()\n",
    "license_by_country.plot(kind='bar', color='orange', figsize=(12, 6))\n",
    "plt.title('Driver’s License Usage by Country')\n",
    "plt.xlabel('Country')\n",
    "plt.ylabel('Number of Driver’s Licenses Used')\n",
    "plt.xticks(rotation=45)\n",
    "plt.show()\n",
    "\n",
    "# Analysis 4: Correlation with Transaction Acceptance\n",
    "status_by_license_use = pd.crosstab(df['Drivers_License_Used'], df['AUTHID_STATUS'])\n",
    "print(status_by_license_use)\n",
    "\n",
    "\n",
    "# Analysis 5: Complexity and Outcome:\n",
    "# Convert AUTHID_STATUS to binary (1 for Accepted, 0 for Rejected)\n",
    "# Adjust the values to match your dataset specifics\n",
    "df['Outcome'] = df['AUTHID_STATUS'].apply(lambda x: 1 if x == 'Accepted' else 0)\n",
    "\n",
    "# Calculate the length of each encrypted driver's license number\n",
    "df['License_Number_Length'] = df['DRIVERS_LICENSE_OR_PERMIT_ENCRYPTED'].apply(lambda x: len(str(x)))\n",
    "\n",
    "# Calculate the correlation\n",
    "correlation, p_value = pearsonr(df['License_Number_Length'], df['Outcome'])\n",
    "\n",
    "# Print the results\n",
    "print(f\"Correlation coefficient: {correlation}\")\n",
    "print(f\"P-value: {p_value}\")\n"
   ]
  },
  {
   "cell_type": "markdown",
   "id": "1bf72267",
   "metadata": {},
   "source": [
    "# 17 OTHER_DOCUMENT_NBR_ENCRYPTED - \n",
    "# Encrypted numbers for any other documents used apart from the ones listed above."
   ]
  },
  {
   "cell_type": "code",
   "execution_count": 10,
   "id": "5bcb497f",
   "metadata": {},
   "outputs": [],
   "source": [
    "# Frequency of Other Document Usage:\n",
    "# Question: How often are other types of documents used as authorization documents compared to the main types?\n",
    "# Analysis: Count the number of transactions that include an encrypted number from these other documents.\n",
    "\n",
    "# Trend of Other Document Usage Over Time:\n",
    "# Question: Is there a trend in the usage of these other documents over time?\n",
    "# Analysis: Group the data by time intervals (e.g., monthly) and count the occurrences of these other document usages.\n",
    "\n",
    "# Geographical Distribution:\n",
    "# Question: In which regions are these other documents most commonly used for authorization?\n",
    "# Analysis: Analyze the frequency of their use across different states and countries.\n",
    "\n",
    "# Correlation with Transaction Acceptance:\n",
    "# Question: Is there a correlation between the use of these other documents as authorization documents and transaction outcomes (accepted or rejected)?\n",
    "# Analysis: Create a cross-tabulation of the presence of these other documents with the authorization status to uncover any potential patterns.\n",
    "\n",
    "# Complexity and Outcome:\n",
    "# Question: Does the complexity or characteristics of the encrypted numbers from these other documents correlate with the authorization outcomes?\n",
    "# Analysis: Examine characteristics such as the length or format of these encrypted numbers and correlate these with transaction outcomes.\n",
    "\n",
    "# Analysis 1: Count of Other Document Usage\n",
    "other_document_count = df['OTHER_DOCUMENT_NBR_ENCRYPTED'].notna().sum()\n",
    "print(f\"Other documents used in {other_document_count} transactions\")\n",
    "\n",
    "# Analysis 2: Trend of Other Document Usage Over Time\n",
    "df['SCAN_DATE'] = pd.to_datetime(df['SCAN_DATE'])\n",
    "df['Other_Document_Used'] = df['OTHER_DOCUMENT_NBR_ENCRYPTED'].notna()\n",
    "other_document_trends = df.groupby([pd.Grouper(key='SCAN_DATE', freq='M'), 'Other_Document_Used']).size().unstack(fill_value=0)\n",
    "other_document_trends[True].plot(kind='line', figsize=(10, 6))\n",
    "plt.title('Trend of Other Document Usage Over Time')\n",
    "plt.xlabel('Month')\n",
    "plt.ylabel('Number of Other Documents Used')\n",
    "plt.show()\n",
    "\n",
    "# Analysis 3: Geographical Distribution of Other Document Usage\n",
    "other_document_by_country = df[df['OTHER_DOCUMENT_NBR_ENCRYPTED'].notna()].groupby('COUNTRY').size()\n",
    "other_document_by_country.plot(kind='bar', color='purple', figsize=(12, 6))\n",
    "plt.title('Other Document Usage by Country')\n",
    "plt.xlabel('Country')\n",
    "plt.ylabel('Number of Other Documents Used')\n",
    "plt.xticks(rotation=45)\n",
    "plt.show()\n",
    "\n",
    "# Analysis 4: Correlation with Transaction Acceptance\n",
    "status_by_other_document_use = pd.crosstab(df['Other_Document_Used'], df['AUTHID_STATUS'])\n",
    "print(status_by_other_document_use)"
   ]
  },
  {
   "cell_type": "markdown",
   "id": "390f5e3c",
   "metadata": {},
   "source": [
    "# \t18. Are there significant differences in the authorization rates between encrypted passports, driver’s licenses, and ID cards?\n"
   ]
  },
  {
   "cell_type": "code",
   "execution_count": 12,
   "id": "984d13ff",
   "metadata": {},
   "outputs": [],
   "source": [
    "# Prepare the Data: Ensure that you have columns indicating whether each type of document was used (encrypted passports, driver's licenses, ID cards) and the authorization status (accepted, rejected).\n",
    "# Create a Contingency Table: This table will count occurrences of each outcome (accepted, rejected) for each type of document.\n",
    "# Apply the Chi-Squared Test: This test will help determine if there are significant differences in the authorization rates between the document types.\n",
    "\n",
    "\n",
    "from scipy.stats import chi2_contingency\n",
    "\n",
    "# Assuming df is your DataFrame\n",
    "# Example columns: 'PASSPORT_NUMBER_ENCRYPTED', 'DRIVERS_LICENSE_OR_PERMIT_ENCRYPTED', 'IDENTIFICATION_CARD_ENCRYPTED', 'AUTHID_STATUS'\n",
    "\n",
    "# Creating a new DataFrame to count the occurrences\n",
    "data = {\n",
    "    'Passport': df['PASSPORT_NUMBER_ENCRYPTED'].notna(),\n",
    "    'Drivers_License': df['DRIVERS_LICENSE_OR_PERMIT_ENCRYPTED'].notna(),\n",
    "    'ID_Card': df['IDENTIFICATION_CARD_ENCRYPTED'].notna(),\n",
    "    'Authorized': df['AUTHID_STATUS'] == 'Accepted'\n",
    "}\n",
    "\n",
    "# Convert booleans to integers for summing\n",
    "analysis_df = pd.DataFrame(data).astype(int)\n",
    "\n",
    "# Create a contingency table\n",
    "contingency_table = pd.crosstab(index=[analysis_df['Passport'], analysis_df['Drivers_License'], analysis_df['ID_Card']], columns=analysis_df['Authorized'])\n",
    "\n",
    "# Conduct the Chi-Squared Test\n",
    "chi2, p_value, dof, expected = chi2_contingency(contingency_table)\n",
    "\n",
    "# Print the results\n",
    "print(f\"Chi-squared Statistic: {chi2}\")\n",
    "print(f\"P-value: {p_value}\")\n",
    "print(f\"Degrees of Freedom: {dof}\")\n",
    "print(f\"Expected Frequencies:\\n{expected}\")\n"
   ]
  },
  {
   "cell_type": "markdown",
   "id": "1d1479ee",
   "metadata": {},
   "source": [
    "# \t19. What correlation exists between the encrypted document number's complexity (length, character type) and authorization success?\n"
   ]
  },
  {
   "cell_type": "code",
   "execution_count": null,
   "id": "81bb0887",
   "metadata": {},
   "outputs": [],
   "source": [
    "# Feature Extraction:\n",
    "# Length: Calculate the length of each encrypted document number.\n",
    "    \n",
    "# Character Type Diversity: Determine the variety of character types (e.g., uppercase, lowercase, numeric, special characters).\n",
    "# Prepare Outcome Variable:\n",
    "    \n",
    "# Create a binary variable for authorization status (1 for 'Accepted', 0 for 'Rejected').\n",
    "\n",
    "# Correlation Analysis:\n",
    "# Use Pearson correlation to assess the relationship between numerical features (like length) and the binary outcome.\n",
    "# Logistic regression can be used to model the probability \n",
    "# of authorization success based on these features, providing a more detailed analysis.\n",
    "\n",
    "\n",
    "# Convert AUTHID_STATUS to binary (1 for Accepted, 0 for Rejected)\n",
    "df['Authorized'] = df['AUTHID_STATUS'].apply(lambda x: 1 if x == 'Accepted' else 0)\n",
    "\n",
    "# Calculate the length of each encrypted document number\n",
    "df['Document_Number_Length'] = df['ENCRYPTED_DOCUMENT_NUMBER'].apply(len)\n",
    "\n",
    "# Calculate character type diversity\n",
    "def char_types(s):\n",
    "    return len(set([c for c in s if c.islower()])) + \\\n",
    "           len(set([c for c in s if c.isupper()])) + \\\n",
    "           len(set([c for c in s if c.isdigit()])) + \\\n",
    "           len(set([c for c in s if not c.isalnum()]))\n",
    "\n",
    "df['Character_Type_Diversity'] = df['ENCRYPTED_DOCUMENT_NUMBER'].apply(char_types)\n",
    "\n",
    "# Pearson correlation for length and authorization success\n",
    "corr_length, _ = pearsonr(df['Document_Number_Length'], df['Authorized'])\n",
    "print(f\"Correlation between document number length and authorization success: {corr_length}\")\n",
    "\n",
    "# Fit a logistic regression model\n",
    "X = df[['Document_Number_Length', 'Character_Type_Diversity']]\n",
    "X = sm.add_constant(X)  # adding a constant\n",
    "model = sm.LogisticRegression()\n",
    "result = model.fit(X, df['Authorized'])\n",
    "\n",
    "# Print model results\n",
    "print(result.summary())\n"
   ]
  },
  {
   "cell_type": "markdown",
   "id": "b31f9f94",
   "metadata": {},
   "source": [
    "# \t20. Which days of the week or times of day see the most frequent use of authorization documents?\n"
   ]
  },
  {
   "cell_type": "code",
   "execution_count": null,
   "id": "1d638ba9",
   "metadata": {},
   "outputs": [],
   "source": [
    "# Extract Day of the Week and Hour:\n",
    "# Extract the day of the week from the datetime column, which will allow us to see on which days the documents are most commonly used.\n",
    "# Extract the hour from the datetime column to see which times of day have the highest usage.\n",
    "# Aggregate and Analyze the Data:\n",
    "# Group the data by day of the week and by hour to count occurrences and identify patterns.\n",
    "\n",
    "# Ensure 'SCAN_DATETIME' is in datetime format\n",
    "df['SCAN_DATETIME'] = pd.to_datetime(df['SCAN_DATETIME'])\n",
    "\n",
    "# Extract the day of the week (0=Monday, 6=Sunday) and hour\n",
    "df['Day_of_Week'] = df['SCAN_DATETIME'].dt.dayofweek\n",
    "df['Hour_of_Day'] = df['SCAN_DATETIME'].dt.hour\n",
    "\n",
    "# Aggregate data by day of the week and hour\n",
    "day_usage = df['Day_of_Week'].value_counts().sort_index()\n",
    "hour_usage = df['Hour_of_Day'].value_counts().sort_index()\n",
    "\n",
    "# Plotting the usage by day of the week\n",
    "plt.figure(figsize=(10, 5))\n",
    "day_usage.plot(kind='bar')\n",
    "plt.title('Document Use by Day of the Week')\n",
    "plt.xlabel('Day of the Week (0=Monday, 6=Sunday)')\n",
    "plt.ylabel('Number of Uses')\n",
    "plt.xticks(ticks=range(0, 7), labels=['Mon', 'Tue', 'Wed', 'Thu', 'Fri', 'Sat', 'Sun'], rotation=0)\n",
    "plt.show()\n",
    "\n",
    "# Plotting the usage by hour of the day\n",
    "plt.figure(figsize=(12, 6))\n",
    "hour_usage.plot(kind='bar')\n",
    "plt.title('Document Use by Hour of the Day')\n",
    "plt.xlabel('Hour of the Day')\n",
    "plt.ylabel('Number of Uses')\n",
    "plt.show()\n"
   ]
  },
  {
   "cell_type": "markdown",
   "id": "5bda1818",
   "metadata": {},
   "source": [
    "#  \t21. What are the error rates or rejection reasons associated with different types of documents?\n"
   ]
  },
  {
   "cell_type": "code",
   "execution_count": null,
   "id": "7bdb437d",
   "metadata": {},
   "outputs": [],
   "source": [
    "\n",
    "# Filter and Group Data:\n",
    "# Filter the data to focus only on rejected documents if the rejection reasons are recorded.\n",
    "# Group the data by DOCUMENT_TYPE and AUTHID_STATUS (or Rejection_Reason if available) to count occurrences.\n",
    "# Calculate Error Rates:\n",
    "\n",
    "# For each document type, calculate the total number of rejections and compare it to the total number of submissions of that type to find the error rate.\n",
    "# Analyze Rejection Reasons:\n",
    "\n",
    "# If detailed rejection reasons are available, analyze the frequency of each reason by document type.\n",
    "\n",
    "# Filter out only rejected documents if 'REJECTION_REASON' is available\n",
    "rejected_df = df[df['AUTHID_STATUS'] == 'Rejected']\n",
    "\n",
    "# Group data by document type and count occurrences of each rejection reason\n",
    "rejection_reasons = rejected_df.groupby('DOCUMENT_TYPE')['REJECTION_REASON'].value_counts().unstack(fill_value=0)\n",
    "\n",
    "# Calculate error rates for each document type\n",
    "total_submissions = df['DOCUMENT_TYPE'].value_counts()\n",
    "total_rejections = rejected_df['DOCUMENT_TYPE'].value_counts()\n",
    "error_rates = (total_rejections / total_submissions).fillna(0)  # Fill NA with 0 where there are no rejections\n",
    "\n",
    "# Plotting the error rates\n",
    "plt.figure(figsize=(10, 6))\n",
    "error_rates.plot(kind='bar')\n",
    "plt.title('Error Rates by Document Type')\n",
    "plt.xlabel('Document Type')\n",
    "plt.ylabel('Error Rate')\n",
    "plt.show()\n",
    "\n",
    "# Plotting the rejection reasons if needed\n",
    "if not rejection_reasons.empty:\n",
    "    rejection_reasons.plot(kind='bar', stacked=True, figsize=(14, 8))\n",
    "    plt.title('Rejection Reasons by Document Type')\n",
    "    plt.xlabel('Document Type')\n",
    "    plt.ylabel('Counts of Rejection Reasons')\n",
    "    plt.show()\n"
   ]
  },
  {
   "cell_type": "markdown",
   "id": "d115eb27",
   "metadata": {},
   "source": [
    "#  22 -- COUNTRY - The country that issued the authorization document; \n",
    "#  this can provide geographical insights regarding document issuance."
   ]
  },
  {
   "cell_type": "code",
   "execution_count": null,
   "id": "45ad4fcc",
   "metadata": {},
   "outputs": [],
   "source": [
    "\n",
    "# Distribution of Authorization Documents by Country:\n",
    "# Question: Which countries issue the most authorization documents?\n",
    "# Analysis: Count and compare the number of documents issued per country.\n",
    "\n",
    "# Country-wise Acceptance and Rejection Rates:\n",
    "# Question: What are the acceptance and rejection rates of authorization documents by country?\n",
    "# Analysis: Cross-tabulate country data with authorization status to see variations in acceptance rates.\n",
    "\n",
    "# Correlation with Document Types:\n",
    "# Question: Are certain types of documents more prevalent in specific countries?\n",
    "# Analysis: Group data by country and document type to see the distribution of document types across different countries.\n",
    "\n",
    "# Temporal Trends by Country:\n",
    "# Question: How has the use of authorization documents evolved over time in different countries?\n",
    "# Analysis: Analyze trends over time by country to understand how document usage changes.\n",
    "\n",
    "# Comparative Analysis of Encrypted Document Details by Country:\n",
    "# Question: Does the complexity or type of encryption used in authorization documents vary by country?\n",
    "# Analysis: If data on encryption details or document specifics is available, analyze these aspects by country.\n",
    "\n",
    "# Analysis 1: Distribution of Authorization Documents by Country\n",
    "country_distribution = df['COUNTRY'].value_counts()\n",
    "plt.figure(figsize=(12, 8))\n",
    "country_distribution.plot(kind='bar', color='skyblue')\n",
    "plt.title('Distribution of Authorization Documents by Country')\n",
    "plt.xlabel('Country')\n",
    "plt.ylabel('Number of Documents')\n",
    "plt.xticks(rotation=45)\n",
    "plt.show()\n",
    "\n",
    "# Analysis 2: Country-wise Acceptance and Rejection Rates\n",
    "country_status = pd.crosstab(df['COUNTRY'], df['AUTHID_STATUS'])\n",
    "country_status.plot(kind='bar', stacked=True, figsize=(14, 7), color=['green', 'red'])\n",
    "plt.title('Acceptance and Rejection Rates by Country')\n",
    "plt.xlabel('Country')\n",
    "plt.ylabel('Total Documents')\n",
    "plt.legend(title='Authorization Status')\n",
    "plt.xticks(rotation=45)\n",
    "plt.show()\n",
    "\n",
    "# Analysis 3: Correlation with Document Types\n",
    "document_type_by_country = pd.crosstab(df['COUNTRY'], df['DOCUMENT_TYPE'])\n",
    "plt.figure(figsize=(14, 8))\n",
    "sns.heatmap(document_type_by_country, annot=True, cmap='Blues', fmt='d')\n",
    "plt.title('Document Types Distribution by Country')\n",
    "plt.xlabel('Document Type')\n",
    "plt.ylabel('Country')\n",
    "plt.show()"
   ]
  },
  {
   "cell_type": "markdown",
   "id": "fae8d506",
   "metadata": {},
   "source": [
    "# 23  STATE - The state that issued the authorization document; \n",
    "#  similar to country, but offers more granular geographic insights."
   ]
  },
  {
   "cell_type": "code",
   "execution_count": null,
   "id": "95a88443",
   "metadata": {},
   "outputs": [],
   "source": [
    "\n",
    "# Distribution of Authorization Documents by State:\n",
    "# Question: Which states issue the most authorization documents?\n",
    "# Analysis: Count the number of documents issued by each state and compare.\n",
    "\n",
    "# State-wise Acceptance and Rejection Rates:\n",
    "# Question: How do acceptance and rejection rates of authorization documents vary by state?\n",
    "# Analysis: Create a cross-tabulation of state data with authorization status to see variations in document approval rates.\n",
    "\n",
    "# Correlation with Document Types by State:\n",
    "# Question: Are certain types of documents more common in specific states?\n",
    "# Analysis: Analyze the distribution of different types of documents across states.\n",
    "\n",
    "# Temporal Trends by State:\n",
    "# Question: How has the use of authorization documents evolved over time in different states?\n",
    "# Analysis: Look at trends over time by state to understand changes in document usage.\n",
    "\n",
    "# Comparative Analysis of Document Complexity by State:\n",
    "# Question: Does the complexity or type of encrypted document details vary by state?\n",
    "# Analysis: If data on encryption details or document specifics are available, analyze these aspects by state.\n",
    "\n",
    "import pandas as pd\n",
    "import matplotlib.pyplot as plt\n",
    "import seaborn as sns\n",
    "\n",
    "# Assuming df is your DataFrame\n",
    "\n",
    "# Analysis 1: Distribution of Authorization Documents by State\n",
    "state_distribution = df['STATE'].value_counts()\n",
    "plt.figure(figsize=(14, 8))\n",
    "state_distribution.plot(kind='bar', color='teal')\n",
    "plt.title('Distribution of Authorization Documents by State')\n",
    "plt.xlabel('State')\n",
    "plt.ylabel('Number of Documents')\n",
    "plt.xticks(rotation=90)\n",
    "plt.show()\n",
    "\n",
    "# Analysis 2: State-wise Acceptance and Rejection Rates\n",
    "state_status = pd.crosstab(df['STATE'], df['AUTHID_STATUS'])\n",
    "state_status.plot(kind='bar', stacked=True, figsize=(16, 8), color=['green', 'red'])\n",
    "plt.title('Acceptance and Rejection Rates by State')\n",
    "plt.xlabel('State')\n",
    "plt.ylabel('Total Documents')\n",
    "plt.xticks(rotation=90)\n",
    "plt.legend(title='Authorization Status')\n",
    "plt.show()\n",
    "\n",
    "# Analysis 3: Correlation with Document Types by State\n",
    "document_type_by_state = pd.crosstab(df['STATE'], df['DOCUMENT_TYPE'])\n",
    "plt.figure(figsize=(16, 10))\n",
    "sns.heatmap(document_type_by_state, annot=True, cmap='Purples', fmt='d')\n",
    "plt.title('Document Types Distribution by State')\n",
    "plt.xlabel('Document Type')\n",
    "plt.ylabel('State')\n",
    "plt.show()\n",
    "\n"
   ]
  },
  {
   "cell_type": "code",
   "execution_count": null,
   "id": "1a019fdd",
   "metadata": {},
   "outputs": [],
   "source": []
  },
  {
   "cell_type": "code",
   "execution_count": null,
   "id": "3345b43a",
   "metadata": {},
   "outputs": [],
   "source": []
  }
 ],
 "metadata": {
  "kernelspec": {
   "display_name": "Python 3",
   "language": "python",
   "name": "python3"
  },
  "language_info": {
   "codemirror_mode": {
    "name": "ipython",
    "version": 3
   },
   "file_extension": ".py",
   "mimetype": "text/x-python",
   "name": "python",
   "nbconvert_exporter": "python",
   "pygments_lexer": "ipython3",
   "version": "3.8.3"
  }
 },
 "nbformat": 4,
 "nbformat_minor": 5
}
