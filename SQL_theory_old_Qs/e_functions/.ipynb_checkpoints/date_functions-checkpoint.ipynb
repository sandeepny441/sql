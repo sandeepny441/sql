{
 "cells": [
  {
   "cell_type": "code",
   "execution_count": 15,
   "id": "68ae3626",
   "metadata": {},
   "outputs": [],
   "source": [
    "import datetime"
   ]
  },
  {
   "cell_type": "markdown",
   "id": "a0d0b81f",
   "metadata": {},
   "source": [
    "# EXTRACT ----- date, year, month, hour, minute, second, micro-second"
   ]
  },
  {
   "cell_type": "code",
   "execution_count": 48,
   "id": "7a394f71",
   "metadata": {},
   "outputs": [
    {
     "data": {
      "text/plain": [
       "datetime.datetime(2023, 12, 26, 10, 15, 39, 640248)"
      ]
     },
     "execution_count": 48,
     "metadata": {},
     "output_type": "execute_result"
    }
   ],
   "source": [
    "datetime.datetime.now()"
   ]
  },
  {
   "cell_type": "code",
   "execution_count": 49,
   "id": "7a4f2ecf",
   "metadata": {},
   "outputs": [
    {
     "data": {
      "text/plain": [
       "2023"
      ]
     },
     "execution_count": 49,
     "metadata": {},
     "output_type": "execute_result"
    }
   ],
   "source": [
    "datetime.datetime.now().year"
   ]
  },
  {
   "cell_type": "code",
   "execution_count": 50,
   "id": "4882c931",
   "metadata": {},
   "outputs": [
    {
     "data": {
      "text/plain": [
       "12"
      ]
     },
     "execution_count": 50,
     "metadata": {},
     "output_type": "execute_result"
    }
   ],
   "source": [
    "datetime.datetime.now().month"
   ]
  },
  {
   "cell_type": "code",
   "execution_count": 52,
   "id": "0c1aaf74",
   "metadata": {},
   "outputs": [
    {
     "data": {
      "text/plain": [
       "26"
      ]
     },
     "execution_count": 52,
     "metadata": {},
     "output_type": "execute_result"
    }
   ],
   "source": [
    "datetime.datetime.now().day"
   ]
  },
  {
   "cell_type": "code",
   "execution_count": 57,
   "id": "7ae3858d",
   "metadata": {},
   "outputs": [
    {
     "data": {
      "text/plain": [
       "10"
      ]
     },
     "execution_count": 57,
     "metadata": {},
     "output_type": "execute_result"
    }
   ],
   "source": [
    "datetime.datetime.now().hour"
   ]
  },
  {
   "cell_type": "code",
   "execution_count": 58,
   "id": "60cbb7bb",
   "metadata": {},
   "outputs": [
    {
     "data": {
      "text/plain": [
       "23"
      ]
     },
     "execution_count": 58,
     "metadata": {},
     "output_type": "execute_result"
    }
   ],
   "source": [
    "datetime.datetime.now().minute"
   ]
  },
  {
   "cell_type": "code",
   "execution_count": 59,
   "id": "d2b463e3",
   "metadata": {},
   "outputs": [
    {
     "data": {
      "text/plain": [
       "22"
      ]
     },
     "execution_count": 59,
     "metadata": {},
     "output_type": "execute_result"
    }
   ],
   "source": [
    "datetime.datetime.now().second"
   ]
  },
  {
   "cell_type": "code",
   "execution_count": 64,
   "id": "0b7ce35c",
   "metadata": {},
   "outputs": [
    {
     "data": {
      "text/plain": [
       "884754"
      ]
     },
     "execution_count": 64,
     "metadata": {},
     "output_type": "execute_result"
    }
   ],
   "source": [
    "datetime.datetime.now().microsecond"
   ]
  },
  {
   "cell_type": "markdown",
   "id": "cb662779",
   "metadata": {},
   "source": [
    "# CREATION ------ DATE + HOUR + MINUTE + SECOND"
   ]
  },
  {
   "cell_type": "code",
   "execution_count": 65,
   "id": "98b5c46a",
   "metadata": {},
   "outputs": [
    {
     "name": "stdout",
     "output_type": "stream",
     "text": [
      "2023-01-01 12:30:00\n"
     ]
    }
   ],
   "source": [
    "some_date = datetime.datetime(2023, 1, 1, 12, 30)\n",
    "print(some_date)"
   ]
  },
  {
   "cell_type": "code",
   "execution_count": 68,
   "id": "4763de2b",
   "metadata": {},
   "outputs": [
    {
     "name": "stdout",
     "output_type": "stream",
     "text": [
      "2023-01-01 00:00:00\n"
     ]
    }
   ],
   "source": [
    "some_date = datetime.datetime(2023, 1, 1)\n",
    "print(some_date)"
   ]
  },
  {
   "cell_type": "code",
   "execution_count": 69,
   "id": "460ce899",
   "metadata": {},
   "outputs": [
    {
     "name": "stdout",
     "output_type": "stream",
     "text": [
      "2023-01-01\n"
     ]
    }
   ],
   "source": [
    "date_only = datetime.date(2023, 1, 1)\n",
    "print(date_only)"
   ]
  },
  {
   "cell_type": "code",
   "execution_count": 81,
   "id": "a5db99a2",
   "metadata": {},
   "outputs": [
    {
     "name": "stdout",
     "output_type": "stream",
     "text": [
      "20:01:01\n"
     ]
    }
   ],
   "source": [
    "time_only = datetime.time(20, 1, 1)\n",
    "print(time_only)"
   ]
  },
  {
   "cell_type": "code",
   "execution_count": 73,
   "id": "c30a1e93",
   "metadata": {},
   "outputs": [
    {
     "data": {
      "text/plain": [
       "datetime.date(2023, 1, 1)"
      ]
     },
     "execution_count": 73,
     "metadata": {},
     "output_type": "execute_result"
    }
   ],
   "source": [
    "some_date.date()"
   ]
  },
  {
   "cell_type": "code",
   "execution_count": 75,
   "id": "12de060b",
   "metadata": {},
   "outputs": [
    {
     "data": {
      "text/plain": [
       "2023"
      ]
     },
     "execution_count": 75,
     "metadata": {},
     "output_type": "execute_result"
    }
   ],
   "source": [
    "some_date.year"
   ]
  },
  {
   "cell_type": "code",
   "execution_count": 77,
   "id": "e539f590",
   "metadata": {},
   "outputs": [
    {
     "data": {
      "text/plain": [
       "1"
      ]
     },
     "execution_count": 77,
     "metadata": {},
     "output_type": "execute_result"
    }
   ],
   "source": [
    "some_date.month"
   ]
  },
  {
   "cell_type": "code",
   "execution_count": 78,
   "id": "1e143d17",
   "metadata": {},
   "outputs": [
    {
     "data": {
      "text/plain": [
       "1"
      ]
     },
     "execution_count": 78,
     "metadata": {},
     "output_type": "execute_result"
    }
   ],
   "source": [
    "some_date.day"
   ]
  },
  {
   "cell_type": "code",
   "execution_count": 79,
   "id": "aa245ff3",
   "metadata": {},
   "outputs": [
    {
     "data": {
      "text/plain": [
       "0"
      ]
     },
     "execution_count": 79,
     "metadata": {},
     "output_type": "execute_result"
    }
   ],
   "source": [
    "some_date.hour"
   ]
  },
  {
   "cell_type": "code",
   "execution_count": 80,
   "id": "db065562",
   "metadata": {},
   "outputs": [
    {
     "data": {
      "text/plain": [
       "0"
      ]
     },
     "execution_count": 80,
     "metadata": {},
     "output_type": "execute_result"
    }
   ],
   "source": [
    "some_date.minute"
   ]
  },
  {
   "cell_type": "code",
   "execution_count": 84,
   "id": "9cd6fdb2",
   "metadata": {},
   "outputs": [
    {
     "data": {
      "text/plain": [
       "20"
      ]
     },
     "execution_count": 84,
     "metadata": {},
     "output_type": "execute_result"
    }
   ],
   "source": [
    "time_only.hour"
   ]
  },
  {
   "cell_type": "code",
   "execution_count": 85,
   "id": "c57cbb01",
   "metadata": {},
   "outputs": [
    {
     "data": {
      "text/plain": [
       "1"
      ]
     },
     "execution_count": 85,
     "metadata": {},
     "output_type": "execute_result"
    }
   ],
   "source": [
    "time_only.minute"
   ]
  },
  {
   "cell_type": "code",
   "execution_count": 86,
   "id": "42c3a01a",
   "metadata": {},
   "outputs": [
    {
     "data": {
      "text/plain": [
       "1"
      ]
     },
     "execution_count": 86,
     "metadata": {},
     "output_type": "execute_result"
    }
   ],
   "source": [
    "time_only.second"
   ]
  },
  {
   "cell_type": "code",
   "execution_count": null,
   "id": "6c324d95",
   "metadata": {},
   "outputs": [],
   "source": []
  },
  {
   "cell_type": "code",
   "execution_count": null,
   "id": "92bc6e4b",
   "metadata": {},
   "outputs": [],
   "source": []
  },
  {
   "cell_type": "code",
   "execution_count": null,
   "id": "226580b8",
   "metadata": {},
   "outputs": [],
   "source": []
  },
  {
   "cell_type": "code",
   "execution_count": null,
   "id": "ae8fe441",
   "metadata": {},
   "outputs": [],
   "source": []
  },
  {
   "cell_type": "code",
   "execution_count": null,
   "id": "e8d6c5c2",
   "metadata": {},
   "outputs": [],
   "source": []
  },
  {
   "cell_type": "code",
   "execution_count": null,
   "id": "733ab587",
   "metadata": {},
   "outputs": [],
   "source": []
  },
  {
   "cell_type": "code",
   "execution_count": null,
   "id": "011e9eb5",
   "metadata": {},
   "outputs": [],
   "source": []
  },
  {
   "cell_type": "code",
   "execution_count": 88,
   "id": "88765e9d",
   "metadata": {},
   "outputs": [],
   "source": [
    "import pandas as pd\n",
    "\n",
    "# Define the CPII data attributes and their descriptions\n",
    "cpii_data_description = {\n",
    "    \"address1\": \"The primary street address of the location.\",\n",
    "    \"address2\": \"Secondary address unit/suite number; often left blank.\",\n",
    "    \"arsmAttuid\": \"Area Retail Sales Manager AT&T user ID.\",\n",
    "    \"assistStoreManagerAttuid\": \"Assistant Store Manager AT&T user ID.\",\n",
    "    \"attuid\": \"AT&T user ID for the employee.\",\n",
    "    \"centerDirectorAttuid\": \"Center Director's AT&T user ID.\",\n",
    "    \"centerManagerAttuid\": \"Center Manager's AT&T user ID.\",\n",
    "    \"channel\": \"The distribution channel or type of sales agent.\",\n",
    "    \"city\": \"The city where the location or employee is based.\",\n",
    "    \"createdDateTime\": \"The timestamp when the record was created.\",\n",
    "    \"dealer1Code\": \"Primary dealer code associated with the location.\",\n",
    "    \"dealer2Code\": \"Secondary dealer code associated with the location.\",\n",
    "    \"dosAttuid\": \"Director of Sales AT&T user ID.\",\n",
    "    \"employeeLocationStartDate\": \"The start date of the employee at the location.\",\n",
    "    \"firstName\": \"The first name of the employee.\",\n",
    "    \"firstNameNormalized\": \"The first name of the employee, normalized for consistency.\",\n",
    "    \"gmAttuid\": \"General Manager AT&T user ID.\",\n",
    "    \"jobTitle\": \"The job title of the employee.\",\n",
    "    \"lastName\": \"The last name of the employee.\",\n",
    "    \"lastNameNormalized\": \"The last name of the employee, normalized for consistency.\",\n",
    "    \"locationId\": \"The identifier for the location.\",\n",
    "    \"locationManagerAttuid\": \"Location Manager's AT&T user ID.\",\n",
    "    \"managerAttuid\": \"Manager's AT&T user ID.\",\n",
    "    \"marketGroup\": \"The market group the location belongs to.\",\n",
    "    \"opusSiteId\": \"Operational site identifier.\",\n",
    "    \"region\": \"The region where the location is situated.\",\n",
    "    \"regionPresAttuid\": \"Regional President's AT&T user ID.\",\n",
    "    \"state\": \"The state where the location is situated.\",\n",
    "    \"storeManagerAttuid\": \"Store Manager's AT&T user ID.\",\n",
    "    \"teamManagerAttuid\": \"Team Manager's AT&T user ID.\",\n",
    "    \"vendorId\": \"The vendor ID associated with the location.\",\n",
    "    \"vpgmAttuid\": \"Vice President and General Manager's AT&T user ID.\",\n",
    "    \"zipCode\": \"The postal ZIP code for the location.\"\n",
    "}\n",
    "\n",
    "# Convert the description dictionary to a DataFrame\n",
    "df_description = pd.DataFrame([cpii_data_description])\n",
    "\n",
    "# Save the DataFrame as an Excel file\n",
    "\n",
    "df_description.to_csv(\"x.csv\", index=False)\n",
    "\n"
   ]
  },
  {
   "cell_type": "code",
   "execution_count": null,
   "id": "275f1432",
   "metadata": {},
   "outputs": [],
   "source": [
    "improt os"
   ]
  },
  {
   "cell_type": "code",
   "execution_count": null,
   "id": "39272dc2",
   "metadata": {},
   "outputs": [],
   "source": []
  },
  {
   "cell_type": "code",
   "execution_count": null,
   "id": "979cac1c",
   "metadata": {},
   "outputs": [],
   "source": []
  },
  {
   "cell_type": "code",
   "execution_count": null,
   "id": "8cdc4d6d",
   "metadata": {},
   "outputs": [],
   "source": []
  }
 ],
 "metadata": {
  "kernelspec": {
   "display_name": "Python 3",
   "language": "python",
   "name": "python3"
  },
  "language_info": {
   "codemirror_mode": {
    "name": "ipython",
    "version": 3
   },
   "file_extension": ".py",
   "mimetype": "text/x-python",
   "name": "python",
   "nbconvert_exporter": "python",
   "pygments_lexer": "ipython3",
   "version": "3.8.3"
  }
 },
 "nbformat": 4,
 "nbformat_minor": 5
}
