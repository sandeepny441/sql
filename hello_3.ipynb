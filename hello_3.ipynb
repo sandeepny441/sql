{
 "cells": [
  {
   "cell_type": "code",
   "execution_count": 20,
   "id": "0f5fe453",
   "metadata": {},
   "outputs": [
    {
     "data": {
      "text/html": [
       "<div>\n",
       "<style scoped>\n",
       "    .dataframe tbody tr th:only-of-type {\n",
       "        vertical-align: middle;\n",
       "    }\n",
       "\n",
       "    .dataframe tbody tr th {\n",
       "        vertical-align: top;\n",
       "    }\n",
       "\n",
       "    .dataframe thead th {\n",
       "        text-align: right;\n",
       "    }\n",
       "</style>\n",
       "<table border=\"1\" class=\"dataframe\">\n",
       "  <thead>\n",
       "    <tr style=\"text-align: right;\">\n",
       "      <th></th>\n",
       "      <th>productId</th>\n",
       "      <th>lifestyles</th>\n",
       "    </tr>\n",
       "  </thead>\n",
       "  <tbody>\n",
       "    <tr>\n",
       "      <th>0</th>\n",
       "      <td>140027</td>\n",
       "      <td>[{\"code\":\"KOSHER\",\"formattedName\":\"Kosher\",\"largeImageUrl\":\"https://images.heb.com/s/image/HEBGrocery/snp-large/snp-skosher.jpg\",\"name\":\"KOSHER\",\"position\":7,\"abbreviation\":\"KOSHER\",\"mediumImageUrl\":\"https://images.heb.com/s/image/HEBGrocery/snp-medium/snp-skosher.jpg\",\"categoryId\":\"1458904\"},{\"code\":\"SNAP\",\"formattedName\":\"SNAP EBT eligible\",\"largeImageUrl\":\"https://images.heb.com/s/image/HEBGrocery/snp-large/snp-ebt.jpg\",\"name\":\"SNAP EBT ELIGIBLE\",\"position\":0,\"abbreviation\":\"SNAP\",\"mediumImageUrl\":\"https://images.heb.com/s/image/HEBGrocery/snp-medium/snp-ebt.jpg\"},{\"code\":\"LOWCARB\",\"formattedName\":\"Low carb lifestyle\",\"largeImageUrl\":\"https://images.heb.com/s/image/HEBGrocery/snp-large/img_placeholder.jpg\",\"description\":\"A derived attribute must have net carbs per serving as follows: individual food &lt;=5g, fruit/veg (incl. juice) &lt;=7g and main dish/meals &lt;=10g. Net carbs=total carbs-fiber-sugar alcohols. Some foods have a clause for lower net or no added sugar.\",\"position\":10,\"abbreviation\":\"LWCRB\",\"mediumImageUrl\":\"https://images.heb.com/s/image/HEBGrocery/snp-medium/img_placeholder.jpg\",\"categoryId\":\"1458911\"}]</td>\n",
       "    </tr>\n",
       "    <tr>\n",
       "      <th>1</th>\n",
       "      <td>140036</td>\n",
       "      <td>[{\"code\":\"LOWCARB\",\"formattedName\":\"Low carb lifestyle\",\"largeImageUrl\":\"https://images.heb.com/s/image/HEBGrocery/snp-large/img_placeholder.jpg\",\"description\":\"A derived attribute must have net carbs per serving as follows: individual food &lt;=5g, fruit/veg (incl. juice) &lt;=7g and main dish/meals &lt;=10g. Net carbs=total carbs-fiber-sugar alcohols. Some foods have a clause for lower net or no added sugar.\",\"position\":10,\"abbreviation\":\"LWCRB\",\"mediumImageUrl\":\"https://images.heb.com/s/image/HEBGrocery/snp-medium/img_placeholder.jpg\"},{\"code\":\"KOSHER\",\"formattedName\":\"Kosher\",\"largeImageUrl\":\"https://images.heb.com/s/image/HEBGrocery/snp-large/snp-skosher.jpg\",\"name\":\"KOSHER\",\"position\":7,\"abbreviation\":\"KOSHER\",\"mediumImageUrl\":\"https://images.heb.com/s/image/HEBGrocery/snp-medium/snp-skosher.jpg\",\"categoryId\":\"1458904\"},{\"code\":\"SNAP\",\"formattedName\":\"SNAP EBT eligible\",\"largeImageUrl\":\"https://images.heb.com/s/image/HEBGrocery/snp-large/snp-ebt.jpg\",\"name\":\"SNAP EBT ELIGIBLE\",\"position\":0,\"abbreviation\":\"SNAP\",\"mediumImageUrl\":\"https://images.heb.com/s/image/HEBGrocery/snp-medium/snp-ebt.jpg\",\"categoryId\":\"1458911\"}]</td>\n",
       "    </tr>\n",
       "  </tbody>\n",
       "</table>\n",
       "</div>"
      ],
      "text/plain": [
       "   productId  \\\n",
       "0     140027   \n",
       "1     140036   \n",
       "\n",
       "                                                                                                                                                                                                                                                                                                                                                                                                                                                                                                                                                                                                                                                                                                                                                                                                                                                                                                                                                                                                                                                                                                                                                                     lifestyles  \n",
       "0  [{\"code\":\"KOSHER\",\"formattedName\":\"Kosher\",\"largeImageUrl\":\"https://images.heb.com/s/image/HEBGrocery/snp-large/snp-skosher.jpg\",\"name\":\"KOSHER\",\"position\":7,\"abbreviation\":\"KOSHER\",\"mediumImageUrl\":\"https://images.heb.com/s/image/HEBGrocery/snp-medium/snp-skosher.jpg\",\"categoryId\":\"1458904\"},{\"code\":\"SNAP\",\"formattedName\":\"SNAP EBT eligible\",\"largeImageUrl\":\"https://images.heb.com/s/image/HEBGrocery/snp-large/snp-ebt.jpg\",\"name\":\"SNAP EBT ELIGIBLE\",\"position\":0,\"abbreviation\":\"SNAP\",\"mediumImageUrl\":\"https://images.heb.com/s/image/HEBGrocery/snp-medium/snp-ebt.jpg\"},{\"code\":\"LOWCARB\",\"formattedName\":\"Low carb lifestyle\",\"largeImageUrl\":\"https://images.heb.com/s/image/HEBGrocery/snp-large/img_placeholder.jpg\",\"description\":\"A derived attribute must have net carbs per serving as follows: individual food <=5g, fruit/veg (incl. juice) <=7g and main dish/meals <=10g. Net carbs=total carbs-fiber-sugar alcohols. Some foods have a clause for lower net or no added sugar.\",\"position\":10,\"abbreviation\":\"LWCRB\",\"mediumImageUrl\":\"https://images.heb.com/s/image/HEBGrocery/snp-medium/img_placeholder.jpg\",\"categoryId\":\"1458911\"}]  \n",
       "1  [{\"code\":\"LOWCARB\",\"formattedName\":\"Low carb lifestyle\",\"largeImageUrl\":\"https://images.heb.com/s/image/HEBGrocery/snp-large/img_placeholder.jpg\",\"description\":\"A derived attribute must have net carbs per serving as follows: individual food <=5g, fruit/veg (incl. juice) <=7g and main dish/meals <=10g. Net carbs=total carbs-fiber-sugar alcohols. Some foods have a clause for lower net or no added sugar.\",\"position\":10,\"abbreviation\":\"LWCRB\",\"mediumImageUrl\":\"https://images.heb.com/s/image/HEBGrocery/snp-medium/img_placeholder.jpg\"},{\"code\":\"KOSHER\",\"formattedName\":\"Kosher\",\"largeImageUrl\":\"https://images.heb.com/s/image/HEBGrocery/snp-large/snp-skosher.jpg\",\"name\":\"KOSHER\",\"position\":7,\"abbreviation\":\"KOSHER\",\"mediumImageUrl\":\"https://images.heb.com/s/image/HEBGrocery/snp-medium/snp-skosher.jpg\",\"categoryId\":\"1458904\"},{\"code\":\"SNAP\",\"formattedName\":\"SNAP EBT eligible\",\"largeImageUrl\":\"https://images.heb.com/s/image/HEBGrocery/snp-large/snp-ebt.jpg\",\"name\":\"SNAP EBT ELIGIBLE\",\"position\":0,\"abbreviation\":\"SNAP\",\"mediumImageUrl\":\"https://images.heb.com/s/image/HEBGrocery/snp-medium/snp-ebt.jpg\",\"categoryId\":\"1458911\"}]  "
      ]
     },
     "execution_count": 20,
     "metadata": {},
     "output_type": "execute_result"
    }
   ],
   "source": [
    "import pandas as pd\n",
    "import json\n",
    "\n",
    "data = {\n",
    "    \"productId\": [140027, 140036],\n",
    "    \"lifestyles\": [\n",
    "        '[{\"code\":\"KOSHER\",\"formattedName\":\"Kosher\",\"largeImageUrl\":\"https://images.heb.com/s/image/HEBGrocery/snp-large/snp-skosher.jpg\",\"name\":\"KOSHER\",\"position\":7,\"abbreviation\":\"KOSHER\",\"mediumImageUrl\":\"https://images.heb.com/s/image/HEBGrocery/snp-medium/snp-skosher.jpg\",\"categoryId\":\"1458904\"},{\"code\":\"SNAP\",\"formattedName\":\"SNAP EBT eligible\",\"largeImageUrl\":\"https://images.heb.com/s/image/HEBGrocery/snp-large/snp-ebt.jpg\",\"name\":\"SNAP EBT ELIGIBLE\",\"position\":0,\"abbreviation\":\"SNAP\",\"mediumImageUrl\":\"https://images.heb.com/s/image/HEBGrocery/snp-medium/snp-ebt.jpg\"},{\"code\":\"LOWCARB\",\"formattedName\":\"Low carb lifestyle\",\"largeImageUrl\":\"https://images.heb.com/s/image/HEBGrocery/snp-large/img_placeholder.jpg\",\"description\":\"A derived attribute must have net carbs per serving as follows: individual food <=5g, fruit/veg (incl. juice) <=7g and main dish/meals <=10g. Net carbs=total carbs-fiber-sugar alcohols. Some foods have a clause for lower net or no added sugar.\",\"position\":10,\"abbreviation\":\"LWCRB\",\"mediumImageUrl\":\"https://images.heb.com/s/image/HEBGrocery/snp-medium/img_placeholder.jpg\",\"categoryId\":\"1458911\"}]',\n",
    "        '[{\"code\":\"LOWCARB\",\"formattedName\":\"Low carb lifestyle\",\"largeImageUrl\":\"https://images.heb.com/s/image/HEBGrocery/snp-large/img_placeholder.jpg\",\"description\":\"A derived attribute must have net carbs per serving as follows: individual food <=5g, fruit/veg (incl. juice) <=7g and main dish/meals <=10g. Net carbs=total carbs-fiber-sugar alcohols. Some foods have a clause for lower net or no added sugar.\",\"position\":10,\"abbreviation\":\"LWCRB\",\"mediumImageUrl\":\"https://images.heb.com/s/image/HEBGrocery/snp-medium/img_placeholder.jpg\"},{\"code\":\"KOSHER\",\"formattedName\":\"Kosher\",\"largeImageUrl\":\"https://images.heb.com/s/image/HEBGrocery/snp-large/snp-skosher.jpg\",\"name\":\"KOSHER\",\"position\":7,\"abbreviation\":\"KOSHER\",\"mediumImageUrl\":\"https://images.heb.com/s/image/HEBGrocery/snp-medium/snp-skosher.jpg\",\"categoryId\":\"1458904\"},{\"code\":\"SNAP\",\"formattedName\":\"SNAP EBT eligible\",\"largeImageUrl\":\"https://images.heb.com/s/image/HEBGrocery/snp-large/snp-ebt.jpg\",\"name\":\"SNAP EBT ELIGIBLE\",\"position\":0,\"abbreviation\":\"SNAP\",\"mediumImageUrl\":\"https://images.heb.com/s/image/HEBGrocery/snp-medium/snp-ebt.jpg\",\"categoryId\":\"1458911\"}]'\n",
    "    ]\n",
    "}\n",
    "\n",
    "df = pd.DataFrame(data)\n",
    "\n",
    "\n",
    "pd.set_option('display.max_rows', None)\n",
    "pd.set_option('display.max_Colwidth', None)\n",
    "df.head() "
   ]
  },
  {
   "cell_type": "code",
   "execution_count": 21,
   "id": "74eeb4c8",
   "metadata": {},
   "outputs": [
    {
     "data": {
      "text/html": [
       "<div>\n",
       "<style scoped>\n",
       "    .dataframe tbody tr th:only-of-type {\n",
       "        vertical-align: middle;\n",
       "    }\n",
       "\n",
       "    .dataframe tbody tr th {\n",
       "        vertical-align: top;\n",
       "    }\n",
       "\n",
       "    .dataframe thead th {\n",
       "        text-align: right;\n",
       "    }\n",
       "</style>\n",
       "<table border=\"1\" class=\"dataframe\">\n",
       "  <thead>\n",
       "    <tr style=\"text-align: right;\">\n",
       "      <th></th>\n",
       "      <th>productId</th>\n",
       "      <th>lifestyles</th>\n",
       "    </tr>\n",
       "  </thead>\n",
       "  <tbody>\n",
       "    <tr>\n",
       "      <th>0</th>\n",
       "      <td>140027</td>\n",
       "      <td>[Kosher, SNAP EBT eligible, Low carb lifestyle, KOSHER, SNAP EBT ELIGIBLE]</td>\n",
       "    </tr>\n",
       "    <tr>\n",
       "      <th>1</th>\n",
       "      <td>140036</td>\n",
       "      <td>[Low carb lifestyle, Kosher, SNAP EBT eligible, KOSHER, SNAP EBT ELIGIBLE]</td>\n",
       "    </tr>\n",
       "  </tbody>\n",
       "</table>\n",
       "</div>"
      ],
      "text/plain": [
       "   productId  \\\n",
       "0     140027   \n",
       "1     140036   \n",
       "\n",
       "                                                                   lifestyles  \n",
       "0  [Kosher, SNAP EBT eligible, Low carb lifestyle, KOSHER, SNAP EBT ELIGIBLE]  \n",
       "1  [Low carb lifestyle, Kosher, SNAP EBT eligible, KOSHER, SNAP EBT ELIGIBLE]  "
      ]
     },
     "execution_count": 21,
     "metadata": {},
     "output_type": "execute_result"
    }
   ],
   "source": [
    "\n",
    "# Function to consolidate the lifestyles column\n",
    "def consolidate_lifestyles(lifestyles):\n",
    "    if isinstance(lifestyles, str):\n",
    "        lifestyles = json.loads(lifestyles)  # Parse the string as JSON\n",
    "    \n",
    "    formatted_names = [lifestyle.get('formattedName') for lifestyle in lifestyles if 'formattedName' in lifestyle]\n",
    "    names = [lifestyle.get('name') for lifestyle in lifestyles if 'name' in lifestyle]\n",
    "    return formatted_names + names\n",
    "\n",
    "# Apply the function to the lifestyles column\n",
    "df['lifestyles'] = df['lifestyles'].apply(consolidate_lifestyles)\n",
    "\n",
    "# Display the modified DataFrame\n",
    "df\n"
   ]
  },
  {
   "cell_type": "code",
   "execution_count": 22,
   "id": "83d7733a",
   "metadata": {},
   "outputs": [
    {
     "data": {
      "text/html": [
       "<div>\n",
       "<style scoped>\n",
       "    .dataframe tbody tr th:only-of-type {\n",
       "        vertical-align: middle;\n",
       "    }\n",
       "\n",
       "    .dataframe tbody tr th {\n",
       "        vertical-align: top;\n",
       "    }\n",
       "\n",
       "    .dataframe thead th {\n",
       "        text-align: right;\n",
       "    }\n",
       "</style>\n",
       "<table border=\"1\" class=\"dataframe\">\n",
       "  <thead>\n",
       "    <tr style=\"text-align: right;\">\n",
       "      <th></th>\n",
       "      <th>productId</th>\n",
       "      <th>filtered_lifestyles</th>\n",
       "    </tr>\n",
       "  </thead>\n",
       "  <tbody>\n",
       "    <tr>\n",
       "      <th>0</th>\n",
       "      <td>140027</td>\n",
       "      <td>[Kosher, Low carb lifestyle]</td>\n",
       "    </tr>\n",
       "    <tr>\n",
       "      <th>1</th>\n",
       "      <td>140036</td>\n",
       "      <td>[Low carb lifestyle, Kosher]</td>\n",
       "    </tr>\n",
       "  </tbody>\n",
       "</table>\n",
       "</div>"
      ],
      "text/plain": [
       "   productId           filtered_lifestyles\n",
       "0     140027  [Kosher, Low carb lifestyle]\n",
       "1     140036  [Low carb lifestyle, Kosher]"
      ]
     },
     "execution_count": 22,
     "metadata": {},
     "output_type": "execute_result"
    }
   ],
   "source": [
    "# Define the wanted lifestyles\n",
    "wanted_lifestyles = [\"Low carb lifestyle\", \"Kosher\"]\n",
    "\n",
    "# Filter the DataFrame to keep only the wanted lifestyles\n",
    "def filter_lifestyles(lifestyles):\n",
    "    return [lifestyle for lifestyle in lifestyles if lifestyle in wanted_lifestyles]\n",
    "\n",
    "# Apply the filter function to the lifestyles column\n",
    "df['filtered_lifestyles'] = df['lifestyles'].apply(filter_lifestyles)\n",
    "\n",
    "# Display the modified DataFrame\n",
    "df[['productId', 'filtered_lifestyles']]\n"
   ]
  },
  {
   "cell_type": "code",
   "execution_count": 23,
   "id": "1d6366d4",
   "metadata": {},
   "outputs": [
    {
     "data": {
      "text/html": [
       "<div>\n",
       "<style scoped>\n",
       "    .dataframe tbody tr th:only-of-type {\n",
       "        vertical-align: middle;\n",
       "    }\n",
       "\n",
       "    .dataframe tbody tr th {\n",
       "        vertical-align: top;\n",
       "    }\n",
       "\n",
       "    .dataframe thead th {\n",
       "        text-align: right;\n",
       "    }\n",
       "</style>\n",
       "<table border=\"1\" class=\"dataframe\">\n",
       "  <thead>\n",
       "    <tr style=\"text-align: right;\">\n",
       "      <th></th>\n",
       "      <th>productId</th>\n",
       "      <th>Low carb lifestyle</th>\n",
       "      <th>Kosher</th>\n",
       "    </tr>\n",
       "  </thead>\n",
       "  <tbody>\n",
       "    <tr>\n",
       "      <th>0</th>\n",
       "      <td>140027</td>\n",
       "      <td>1</td>\n",
       "      <td>1</td>\n",
       "    </tr>\n",
       "    <tr>\n",
       "      <th>1</th>\n",
       "      <td>140036</td>\n",
       "      <td>1</td>\n",
       "      <td>1</td>\n",
       "    </tr>\n",
       "  </tbody>\n",
       "</table>\n",
       "</div>"
      ],
      "text/plain": [
       "   productId  Low carb lifestyle  Kosher\n",
       "0     140027                   1       1\n",
       "1     140036                   1       1"
      ]
     },
     "execution_count": 23,
     "metadata": {},
     "output_type": "execute_result"
    }
   ],
   "source": [
    "# Correcting to use list instead of set for columns\n",
    "unique_lifestyles = list(set(item for sublist in df['filtered_lifestyles'] for item in sublist))\n",
    "df_pivot = pd.DataFrame(0, index=df['productId'], columns=unique_lifestyles)\n",
    "\n",
    "# Populate the pivot table with 1s where the lifestyle is present\n",
    "for index, row in df.iterrows():\n",
    "    for lifestyle in row['filtered_lifestyles']:\n",
    "        df_pivot.at[row['productId'], lifestyle] = 1\n",
    "\n",
    "# Display the modified DataFrame\n",
    "df_pivot.reset_index()\n"
   ]
  },
  {
   "cell_type": "code",
   "execution_count": null,
   "id": "4984d160",
   "metadata": {},
   "outputs": [],
   "source": []
  }
 ],
 "metadata": {
  "kernelspec": {
   "display_name": "Python 3",
   "language": "python",
   "name": "python3"
  },
  "language_info": {
   "codemirror_mode": {
    "name": "ipython",
    "version": 3
   },
   "file_extension": ".py",
   "mimetype": "text/x-python",
   "name": "python",
   "nbconvert_exporter": "python",
   "pygments_lexer": "ipython3",
   "version": "3.8.3"
  }
 },
 "nbformat": 4,
 "nbformat_minor": 5
}
